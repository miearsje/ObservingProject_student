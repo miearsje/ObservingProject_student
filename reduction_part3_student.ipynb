{
 "cells": [
  {
   "cell_type": "markdown",
   "metadata": {},
   "source": [
    "<h2>OBSERVATIONAL ASTROPHYSICS – FALL 2021 Reduction Exercise: Part 3</h2>\n",
    "\n",
    "We are going to be aligning the images a different way than what I outlined in class because the data we have were causing problems with the automatic routine to calculate the shift in pixels between images and doing it would have involved a lot of hands on entry of coordinates that would have taken too long.  Instead we will be using astrometry.net to find the WCS for each image and will be using that info, which tells us what (RA,DEC) corresponds to each (x,y), to align the images using another task.  It works just as well as what I described in class, but is different in detail.\n",
    "\n",
    "In this part you will do the following steps\n",
    "* copy image names and trim files to get rid of vignetted section of detector\n",
    "\n",
    "* Use astrometry.net functions to find the WCS for each image\n",
    "\n",
    "* Use that WCS to align each image\n",
    "\n",
    "* combine each set of aligned images into a final image.\n",
    "\n",
    "* fix an remaining NaN's around the edges of the images that were a result of the combination process\n",
    "\n",
    "* subtract the background from each image and then display them.\n",
    "\n",
    "There are only three elements where you need to write your answer.  The rest of the work is just making sure all of the steps carry out successfully and that images are produced at the end.\n",
    "\n",
    "**This is due on Monday Nov. 22**"
   ]
  },
  {
   "cell_type": "code",
   "execution_count": 1,
   "metadata": {},
   "outputs": [],
   "source": [
    "import os\n",
    "from astropy.io import fits\n",
    "from astropy.nddata import CCDData\n",
    "import astropy.units as u\n",
    "from astropy.visualization import simple_norm\n",
    "import numpy as np\n",
    "from matplotlib import pyplot as plt\n",
    "from scipy.stats import scoreatpercentile\n",
    "import glob\n",
    "import time\n",
    "import multiprocessing as mp\n",
    "import ccdproc"
   ]
  },
  {
   "cell_type": "markdown",
   "metadata": {},
   "source": [
    "## Fixing the Header Information\n",
    "\n",
    "* When we took the data for Markarian 50, the FLI Pilot forgot to connect MaxIm DL to the telescope.  As a result, we do not have information about where the telescope was pointed.\n",
    "\n",
    "* Astronomy.net works better if we provide information on the approximate RA and DEC of the image so it knows where in the sky to search for matching triangles\n",
    "\n",
    "* Therefore, we will add the RA and DEC for Markarian 50 to the header by hand using the function fixheader."
   ]
  },
  {
   "cell_type": "code",
   "execution_count": 2,
   "metadata": {},
   "outputs": [],
   "source": [
    "def fixheader(filelist,ra=None,dec=None,rakeyword='OBJCTRA',deckeyword='OBJCTDEC'):\n",
    "  ''' update the RA and DEC in image header; useful if telescope is not connected to maxImDL '''\n",
    "  print('got ',len(filelist),' files to update')\n",
    "  if ra is not None:\n",
    "      for f in filelist:\n",
    "        data,header = fits.getdata(f,header=True)\n",
    "        header.set(rakeyword,ra)\n",
    "        fits.writeto(f,data,header,overwrite=True)\n",
    "  if dec is not None:\n",
    "      for f in filelist:\n",
    "        data,header = fits.getdata(f,header=True)\n",
    "        header.set(deckeyword,dec)\n",
    "        fits.writeto(f,data,header,overwrite=True)"
   ]
  },
  {
   "cell_type": "markdown",
   "metadata": {},
   "source": [
    "## Copy image names and trim images to remove vignetted section.\n",
    "\n",
    "* To make it easier to code later, I am renaming all the dark subtracted and flat-fielded science files to put their band (g or r) at the end\n",
    "\n",
    "* I am also trimming them to remove the vignetted region"
   ]
  },
  {
   "cell_type": "code",
   "execution_count": 3,
   "metadata": {},
   "outputs": [],
   "source": [
    "from shutil import copyfile\n",
    "\n",
    "#this changes to the directory of our images\n",
    "redpath = \"/media/miearsje/easystore/Documents/KU/Past Courses/Fall2021/ASTR596/mine/ObservingProject_student/Data/2021-10-19/Reduced/\"\n",
    "os.chdir(redpath)\n",
    "\n",
    "#to make the code work better later on, executing this code will rename our \n",
    "#science images to have the filter name in the image name\n",
    "#!cp s009df.fit s009df_g.fit\n",
    "\n",
    "for i in range(9,15):   \n",
    "    if(i==9):\n",
    "        fsource = redpath + 's00' + str(i) + 'df.fit'\n",
    "    else:\n",
    "        fsource = redpath + 's0' + str(i) + 'df.fit'\n",
    "    ftarg = fsource.replace('df.fit','df_g.fit',1)\n",
    "    copyfile(fsource,ftarg)\n",
    "\n",
    "    #now trim the target images to get rid of the vignetted sections\n",
    "    ftrim = ftarg.replace('df_g.fit','dft_g.fit',1)\n",
    "    img, hdr = fits.getdata(ftarg, header=True)\n",
    "    img2 = img[0:1670, 0:1480]\n",
    "    fits.writeto(ftrim, img2, header=hdr, overwrite=True)\n",
    "    \n",
    "for i in range(15,21):   \n",
    "    fsource = redpath + 's0' + str(i) + 'df.fit'\n",
    "    ftarg = fsource.replace('df.fit','df_r.fit',1)\n",
    "    copyfile(fsource,ftarg)\n",
    "\n",
    "    #now trim the target images to get rid of the vignetted sections\n",
    "    ftrim = ftarg.replace('df_r.fit','dft_r.fit',1)\n",
    "    img, hdr = fits.getdata(ftarg, header=True)\n",
    "    img2 = img[0:1670, 0:1480]\n",
    "    fits.writeto(ftrim, img2, header=hdr, overwrite=True)\n"
   ]
  },
  {
   "cell_type": "code",
   "execution_count": 4,
   "metadata": {},
   "outputs": [
    {
     "name": "stdout",
     "output_type": "stream",
     "text": [
      "got  12  files to update\n"
     ]
    }
   ],
   "source": [
    "# get coords of Markarian 50\n",
    "#ra = '23 15 18'\n",
    "#dec = '+60 28 00'\n",
    "ra = '22 28 00'\n",
    "dec = '+59 11 16'\n",
    "#this writes all of the files matching the expresion to a file\n",
    "\n",
    "#the glob.glob function puts all the files in your directory that match the string\n",
    "#and puts them into a python list\n",
    "mark50_zfilelist = glob.glob('s0*dft*.fit')\n",
    "fixheader(mark50_zfilelist,ra=ra,dec=dec)"
   ]
  },
  {
   "cell_type": "markdown",
   "metadata": {},
   "source": [
    "## Define Display function"
   ]
  },
  {
   "cell_type": "code",
   "execution_count": 5,
   "metadata": {},
   "outputs": [],
   "source": [
    "def display_image(imagename,cmap='viridis',p1=5,p2=99.5,stretch='asinh'):\n",
    " \n",
    "  d = fits.getdata(imagename)\n",
    "  a = scoreatpercentile(d,p1)\n",
    "  b = scoreatpercentile(d,p2)\n",
    "  norm = simple_norm(d,min_percent=p1,max_percent=p2)  \n",
    "  #plt.figure(figsize=(12,10))\n",
    "  plt.imshow(d,vmin=a,vmax=b,cmap=cmap,norm=norm)"
   ]
  },
  {
   "cell_type": "markdown",
   "metadata": {},
   "source": [
    "## Define Some Photometry Functions\n",
    "\n",
    "* these are functions that we will use when measuring the background in an image, or for identifying sources in the image.\n",
    "* you don't need to worry about the details of what each is doing at this point, unless of course you want to!"
   ]
  },
  {
   "cell_type": "code",
   "execution_count": 6,
   "metadata": {},
   "outputs": [],
   "source": [
    "def get_sky_background(img, verbose=False):\n",
    "    from astropy.stats import sigma_clipped_stats\n",
    "    # estimate background counts in image\n",
    "    mean, median, std = sigma_clipped_stats(img, sigma=3.0)\n",
    "    \n",
    "    return median,std\n",
    "\n",
    "def find_stars(img, fwhm=3.0, nsigma=5, verbose=False):\n",
    "    from photutils import DAOStarFinder\n",
    "\n",
    "    bkg,sigma = get_sky_background(img, verbose=verbose)\n",
    "    \n",
    "    daofind = DAOStarFinder(fwhm=fwhm, threshold=nsigma * sigma)\n",
    "    srcs = daofind(img - bkg)\n",
    "    if verbose:\n",
    "        print('Found {} stars'.format(len(srcs)))    \n",
    "    return srcs\n",
    "\n",
    "def get_panstarrs_catalog(imgwcs, radius=0.2, verbose=False):\n",
    "    import astropy.units as u\n",
    "    from astropy.coordinates import SkyCoord\n",
    "    from astroquery.mast import Catalogs\n",
    "\n",
    "    ra0, dec0 = imgwcs.wcs.crval\n",
    "    coords = SkyCoord(ra0, dec0, unit=u.deg, frame='icrs')\n",
    "    \n",
    "    if verbose:\n",
    "        print('Querying Pan-STARRS {:.3f} deg around RA, Dec={:.5f}, {:.5f} '.format(radius, ra0, dec0))\n",
    "        \n",
    "    cat = Catalogs.query_criteria(coordinates=coords, radius=radius,\n",
    "                                  catalog='PANSTARRS', data_release='dr2', \n",
    "                                  table='mean',\n",
    "                                  columns=['objID', 'raMean', 'decMean',\n",
    "                                           'gMeanPSFMag', 'rMeanPSFMag', 'iMeanPSFMag', 'zMeanPSFMag'],\n",
    "                                           gMeanPSFMag=[('lte', 18), ('gte', 8)],\n",
    "                                           rMeanPSFMag=[('lte', 18), ('gte', 8)],\n",
    "                                           iMeanPSFMag=[('lte', 18), ('gte', 8)],\n",
    "                                           zMeanPSFMag=[('lte', 18), ('gte', 8)])\n",
    "                                           #sort_by=[(\"asc\", \"rMeanPSFMag\")]\n",
    "\n",
    "    # http://legacysurvey.org/dr8/description/#photometry\n",
    "    gi = cat['gMeanPSFMag'] - cat['iMeanPSFMag']\n",
    "    keep = np.where( (gi > 0.4) * (gi < 2.7) )[0]\n",
    "    cat = cat[keep]\n",
    "    \n",
    "    return cat\n"
   ]
  },
  {
   "cell_type": "markdown",
   "metadata": {},
   "source": [
    "## Find the astrometric solutions for each of your images\n",
    "\n",
    "The following steps will do the following:\n",
    "\n",
    "* Compile a list of all the images\n",
    "\n",
    "* run the astrometry_wrapper to detect sources in your image using the find_stars function, and then send that list to astrometry.net to find the astrometric solution.  This then writes out a new image with the correct WCS in the header.\n",
    "\n",
    "For this next step you'll need your astrometry.net API key, which you can find at this site http://nova.astrometry.net/api_help.  You will need to get an account on this site and can use the Github authentication in the login process as all of you have Github accounts.  \n",
    "\n",
    "Please do not use my API key!"
   ]
  },
  {
   "cell_type": "markdown",
   "metadata": {},
   "source": [
    "## Astrometry functions\n",
    "\n",
    "Put your API key in the first line of this program."
   ]
  },
  {
   "cell_type": "code",
   "execution_count": 7,
   "metadata": {},
   "outputs": [],
   "source": [
    "def get_astrometry(imgfile, srcs=None, api_key='zghfswettpfgxopk', prefix='w', overwrite=True): # please dont use my key\n",
    "\n",
    "    from astropy.io import fits\n",
    "    import astropy.units as u\n",
    "    from astropy.coordinates import SkyCoord\n",
    "    from astroquery.astrometry_net import AstrometryNet  \n",
    "    reduxdir = os.getcwd()\n",
    "    wcsfile = os.path.join(reduxdir, '{}{}'.format(prefix, os.path.basename(imgfile)))\n",
    "    if not os.path.isfile(wcsfile) or overwrite:\n",
    "        img, hdr = fits.getdata(imgfile, header=True)\n",
    "\n",
    "        # Initialize the API.\n",
    "        ast = AstrometryNet()\n",
    "        if api_key:\n",
    "            ast.api_key = api_key\n",
    "        #ast.show_allowed_settings()\n",
    "\n",
    "        # Get the initial position center based on the header.\n",
    "        c = SkyCoord(hdr['OBJCTRA']+hdr['OBJCTDEC'], unit=(u.hourangle, u.deg))\n",
    "        print('Initial RA, Dec = {:.5f}, {:.5f}'.format(c.ra.value, c.dec.value))\n",
    "\n",
    "        # Query the astrometry.net engine!\n",
    "        t0 = time.time()\n",
    "        wcshdr = ast.solve_from_source_list(\n",
    "            srcs['xcentroid'], srcs['ycentroid'], hdr['naxis1'], hdr['naxis2'],\n",
    "            center_ra=c.ra.value, center_dec=c.dec.value, radius=15/60.0, \n",
    "            scale_type='ev', scale_est=0.8, scale_err=10, scale_units='arcsecperpix',\n",
    "            crpix_center=True)\n",
    "        print('Total time = {:.3f} min'.format((time.time() - t0)/60))\n",
    "\n",
    "        # update the original header\n",
    "        for key in wcshdr.keys():\n",
    "            if key not in hdr and key != 'COMMENT' and key != 'HISTORY':\n",
    "                hdr[key] = wcshdr[key]\n",
    "\n",
    "        print('Writing {}'.format(wcsfile))\n",
    "        fits.writeto(wcsfile, img, header=wcshdr, overwrite=True)        \n",
    "    else:\n",
    "        wcshdr = fits.getheader(wcsfile)\n",
    "\n",
    "    return wcsfile, wcshdr"
   ]
  },
  {
   "cell_type": "code",
   "execution_count": 8,
   "metadata": {},
   "outputs": [],
   "source": [
    "def astrometry_wrapper(filelist):\n",
    "  for f in filelist:\n",
    "    # read in image\n",
    "    imdata = fits.getdata(f)\n",
    "    # get sources by detecting them in the image\n",
    "    source_cat = find_stars(imdata)\n",
    "    #display(source_cat)\n",
    "    \n",
    "    # call astrometry\n",
    "    get_astrometry(f,srcs=source_cat,overwrite=True)\n",
    "\n",
    "    #break"
   ]
  },
  {
   "cell_type": "code",
   "execution_count": 9,
   "metadata": {},
   "outputs": [
    {
     "name": "stdout",
     "output_type": "stream",
     "text": [
      "['s009dft_g.fit', 's010dft_g.fit', 's011dft_g.fit', 's012dft_g.fit', 's013dft_g.fit', 's014dft_g.fit', 's015dft_r.fit', 's016dft_r.fit', 's017dft_r.fit', 's018dft_r.fit', 's019dft_r.fit', 's020dft_r.fit']\n"
     ]
    }
   ],
   "source": [
    "#testfilelist = glob.glob('test.fit')\n",
    "#fixheader(testfilelist,ra=ra,dec=dec)\n",
    "\n",
    "# NOTE: this is going to take a long time, like 1-2 min per image!\n",
    "filelist = glob.glob('s0*dft_?.fit')\n",
    "#filelist = glob.glob('s009df_g.fit')\n",
    "print(filelist)\n"
   ]
  },
  {
   "cell_type": "markdown",
   "metadata": {},
   "source": [
    "This code below outputs a file that has a \"w\" at the beginning, to indicate that it has the correct WCS in the header"
   ]
  },
  {
   "cell_type": "code",
   "execution_count": 10,
   "metadata": {},
   "outputs": [
    {
     "name": "stderr",
     "output_type": "stream",
     "text": [
      "WARNING: Astrometry.net API key not found in configuration file [astroquery.astrometry_net.core]\n",
      "WARNING: You need to manually edit the configuration file and add it [astroquery.astrometry_net.core]\n",
      "WARNING: You may also register it for this session with AstrometryNet.key = 'XXXXXXXX' [astroquery.astrometry_net.core]\n",
      "WARNING: Astrometry.net API key not found in configuration file [astroquery.astrometry_net.core]\n",
      "WARNING: You need to manually edit the configuration file and add it [astroquery.astrometry_net.core]\n",
      "WARNING: You may also register it for this session with AstrometryNet.key = 'XXXXXXXX' [astroquery.astrometry_net.core]\n"
     ]
    },
    {
     "name": "stdout",
     "output_type": "stream",
     "text": [
      "Initial RA, Dec = 337.00000, 59.18778\n",
      "Solving.............................................................Total time = 1.110 min\n",
      "Writing /media/miearsje/easystore/Documents/KU/Past Courses/Fall2021/ASTR596/mine/ObservingProject_student/Data/2021-10-19/Reduced/ws009dft_g.fit\n",
      "Initial RA, Dec = 337.00000, 59.18778\n",
      "Solving............................................................................Total time = 1.373 min\n",
      "Writing /media/miearsje/easystore/Documents/KU/Past Courses/Fall2021/ASTR596/mine/ObservingProject_student/Data/2021-10-19/Reduced/ws010dft_g.fit\n",
      "Initial RA, Dec = 337.00000, 59.18778\n",
      "Solving..................................................Total time = 0.908 min\n",
      "Writing /media/miearsje/easystore/Documents/KU/Past Courses/Fall2021/ASTR596/mine/ObservingProject_student/Data/2021-10-19/Reduced/ws011dft_g.fit\n",
      "Initial RA, Dec = 337.00000, 59.18778\n",
      "Solving...................................................................................Total time = 1.498 min\n",
      "Writing /media/miearsje/easystore/Documents/KU/Past Courses/Fall2021/ASTR596/mine/ObservingProject_student/Data/2021-10-19/Reduced/ws012dft_g.fit\n",
      "Initial RA, Dec = 337.00000, 59.18778\n",
      "Solving..............................................................................Total time = 1.419 min\n",
      "Writing /media/miearsje/easystore/Documents/KU/Past Courses/Fall2021/ASTR596/mine/ObservingProject_student/Data/2021-10-19/Reduced/ws013dft_g.fit\n",
      "Initial RA, Dec = 337.00000, 59.18778\n",
      "Solving.........................................................Total time = 1.042 min\n",
      "Writing /media/miearsje/easystore/Documents/KU/Past Courses/Fall2021/ASTR596/mine/ObservingProject_student/Data/2021-10-19/Reduced/ws014dft_g.fit\n",
      "Initial RA, Dec = 337.00000, 59.18778\n",
      "Solving...........................................................................Total time = 1.450 min\n",
      "Writing /media/miearsje/easystore/Documents/KU/Past Courses/Fall2021/ASTR596/mine/ObservingProject_student/Data/2021-10-19/Reduced/ws015dft_r.fit\n",
      "Initial RA, Dec = 337.00000, 59.18778\n",
      "Solving..............................................Total time = 0.839 min\n",
      "Writing /media/miearsje/easystore/Documents/KU/Past Courses/Fall2021/ASTR596/mine/ObservingProject_student/Data/2021-10-19/Reduced/ws016dft_r.fit\n",
      "Initial RA, Dec = 337.00000, 59.18778\n",
      "Solving...................................................................................Total time = 1.504 min\n",
      "Writing /media/miearsje/easystore/Documents/KU/Past Courses/Fall2021/ASTR596/mine/ObservingProject_student/Data/2021-10-19/Reduced/ws017dft_r.fit\n",
      "Initial RA, Dec = 337.00000, 59.18778\n",
      "Solving...................................................Total time = 0.933 min\n",
      "Writing /media/miearsje/easystore/Documents/KU/Past Courses/Fall2021/ASTR596/mine/ObservingProject_student/Data/2021-10-19/Reduced/ws018dft_r.fit\n",
      "Initial RA, Dec = 337.00000, 59.18778\n",
      "Solving.......................................................Total time = 1.003 min\n",
      "Writing /media/miearsje/easystore/Documents/KU/Past Courses/Fall2021/ASTR596/mine/ObservingProject_student/Data/2021-10-19/Reduced/ws019dft_r.fit\n",
      "Initial RA, Dec = 337.00000, 59.18778\n",
      "Solving...................................................................................Total time = 1.502 min\n",
      "Writing /media/miearsje/easystore/Documents/KU/Past Courses/Fall2021/ASTR596/mine/ObservingProject_student/Data/2021-10-19/Reduced/ws020dft_r.fit\n"
     ]
    }
   ],
   "source": [
    "# NOTE: this is going to take a long time, like 1-2 min per image!\n",
    "astrometry_wrapper(filelist)\n"
   ]
  },
  {
   "cell_type": "markdown",
   "metadata": {},
   "source": [
    "## Problem 1: You need to describe how you can check whether the WCS is consistent among all the images\n",
    "\n",
    "* You should go into DS9 and open up the images each into their own frame \n",
    "* using the \"frame->match->WCS\" menu list item, you can check if the images are aligned\n",
    "* Describe how you would quantitatively check if the images' WCS are such that identical sources have the same RA and DEC.  I am not expecting you to do this check (though you certainly can), I am merely asking you to describe the process.\n",
    "\n",
    "Write your answer in the blank cell below"
   ]
  },
  {
   "cell_type": "markdown",
   "metadata": {},
   "source": [
    "**answer here**: Would it be assigning each pixel RA and DEC coordinates, and then comparing those pixels to pixels in other images?"
   ]
  },
  {
   "cell_type": "markdown",
   "metadata": {},
   "source": [
    "## Stack images"
   ]
  },
  {
   "cell_type": "code",
   "execution_count": 11,
   "metadata": {},
   "outputs": [],
   "source": [
    "from reproject import reproject_interp\n",
    "from astropy.wcs import WCS\n",
    "from astropy.io import fits"
   ]
  },
  {
   "cell_type": "markdown",
   "metadata": {},
   "source": [
    "##  Align a stack of Images\n",
    "\n",
    "* reproject ALL images onto one reference image.  It chooses the first image in the input list as the reference and then uses the WCS in the header to shift all the images onto the same grid\n",
    "* take average of all r-band images\n",
    "* take average of all g-band images\n",
    "* make color image using average r, average g, and average g\n",
    "\n"
   ]
  },
  {
   "cell_type": "code",
   "execution_count": 12,
   "metadata": {},
   "outputs": [],
   "source": [
    "def wcs_align(file_list):\n",
    "  '''\n",
    "  GOAL: align images using wcs and combine the output\n",
    "\n",
    "  INPUT: \n",
    "  * file_list : list of image to combine\n",
    "  * outimage_filename : the name of the combined image \n",
    "\n",
    "  OUTPUT:\n",
    "  * \"s\"+filename : the shifted version of each image is saved\n",
    "  * the combined image\n",
    "  '''\n",
    "  # use the first image in the list as the reference\n",
    "  refimage = file_list[0]\n",
    "  hdu_ref = fits.open(file_list[0])[0]\n",
    "  shifted_images = []\n",
    "  for i,f in enumerate(file_list):\n",
    "    print('REPROJECTING IMAGE {} OUT OF {}'.format(i+1,len(file_list)))\n",
    "    hdu_next = fits.open(f)[0]\n",
    "    reproject_image, footprint = reproject_interp(hdu_next, hdu_ref.header)\n",
    "    # write out shifted image\n",
    "    fits.writeto(\"s\"+f,reproject_image,hdu_ref.header,overwrite=True)\n",
    "    shifted_images.append(\"s\"+f)\n",
    "\n",
    "def combine_images(shifted_images,outimage_filename):\n",
    "  if os.path.exists(outimage_filename):\n",
    "    os.remove(outimage_filename)\n",
    "  avg_combined = ccdproc.combine(shifted_images,output_file=outimage_filename,method='average',unit=u.electron,sigma_clip=True,sigma_clip_high_thresh=2.5,sigma_clip_low_thresh=2)\n",
    "  #fits.writeto(outimage_filename, avg_combined, overwrite=True) \n",
    "\n"
   ]
  },
  {
   "cell_type": "code",
   "execution_count": 13,
   "metadata": {},
   "outputs": [
    {
     "name": "stdout",
     "output_type": "stream",
     "text": [
      "['ws009dft_g.fit', 'ws010dft_g.fit', 'ws011dft_g.fit', 'ws012dft_g.fit', 'ws013dft_g.fit', 'ws014dft_g.fit', 'ws015dft_r.fit', 'ws016dft_r.fit', 'ws017dft_r.fit', 'ws018dft_r.fit', 'ws019dft_r.fit', 'ws020dft_r.fit']\n"
     ]
    }
   ],
   "source": [
    "# use glob to grab all the trimmed science files with the correct WCS\n",
    "files_2align = glob.glob('w*dft*.fit')\n",
    "print(files_2align)"
   ]
  },
  {
   "cell_type": "markdown",
   "metadata": {},
   "source": [
    "Now use the WCS to align the images.  In this case the alignment comes only from a shift"
   ]
  },
  {
   "cell_type": "code",
   "execution_count": 14,
   "metadata": {},
   "outputs": [
    {
     "name": "stdout",
     "output_type": "stream",
     "text": [
      "REPROJECTING IMAGE 1 OUT OF 12\n",
      "REPROJECTING IMAGE 2 OUT OF 12\n",
      "REPROJECTING IMAGE 3 OUT OF 12\n",
      "REPROJECTING IMAGE 4 OUT OF 12\n",
      "REPROJECTING IMAGE 5 OUT OF 12\n",
      "REPROJECTING IMAGE 6 OUT OF 12\n",
      "REPROJECTING IMAGE 7 OUT OF 12\n",
      "REPROJECTING IMAGE 8 OUT OF 12\n",
      "REPROJECTING IMAGE 9 OUT OF 12\n",
      "REPROJECTING IMAGE 10 OUT OF 12\n",
      "REPROJECTING IMAGE 11 OUT OF 12\n",
      "REPROJECTING IMAGE 12 OUT OF 12\n",
      "CPU times: user 1min 23s, sys: 11.4 s, total: 1min 34s\n",
      "Wall time: 1min 37s\n"
     ]
    }
   ],
   "source": [
    "%%time\n",
    "wcs_align(files_2align)"
   ]
  },
  {
   "cell_type": "markdown",
   "metadata": {},
   "source": [
    "## Problem 2: You need to describe how you can check whether the images were aligned properly\n",
    "\n",
    "* You should go into DS9 and open up the images each into their own frame \n",
    "* using the \"frame->match->image\" menu list item, you can blink the images to check if they look aligned.  Describe what your conclusions are.\n",
    "* Describe how you would quantitatively check if the images are actually aligned.  I am not expecting you to do this check (though you certainly can), I am merely asking you to describe the process.\n",
    "\n",
    "Write your answer in the blank cell below"
   ]
  },
  {
   "cell_type": "markdown",
   "metadata": {},
   "source": [
    "**answer here**: \n",
    "The images do look alighned, as the object which look like stars all appear to have the same coordinates. Would you check this by comparing brightness?"
   ]
  },
  {
   "cell_type": "markdown",
   "metadata": {},
   "source": [
    "## Now combine the images"
   ]
  },
  {
   "cell_type": "code",
   "execution_count": 15,
   "metadata": {},
   "outputs": [
    {
     "name": "stdout",
     "output_type": "stream",
     "text": [
      "CPU times: user 1.41 s, sys: 1.39 s, total: 2.79 s\n",
      "Wall time: 3.12 s\n"
     ]
    }
   ],
   "source": [
    "%%time\n",
    "goutimage_filename = 'mark50g-stacked.fit'\n",
    "gshifted_filenames = glob.glob('sws*dft_g.fit')\n",
    "if os.path.exists(goutimage_filename):\n",
    "  os.remove(goutimage_filename)\n",
    "combine_images(gshifted_filenames,goutimage_filename)"
   ]
  },
  {
   "cell_type": "code",
   "execution_count": 16,
   "metadata": {},
   "outputs": [
    {
     "name": "stdout",
     "output_type": "stream",
     "text": [
      "CPU times: user 1.45 s, sys: 1.15 s, total: 2.61 s\n",
      "Wall time: 2.98 s\n"
     ]
    }
   ],
   "source": [
    "%%time\n",
    "routimage_filename = 'mark50r-stacked.fit'\n",
    "rshifted_filenames = glob.glob('sws*dft_r.fit')\n",
    "if os.path.exists(routimage_filename):\n",
    "  os.remove(routimage_filename)\n",
    "combine_images(rshifted_filenames,routimage_filename)"
   ]
  },
  {
   "cell_type": "code",
   "execution_count": 17,
   "metadata": {},
   "outputs": [],
   "source": [
    "def readimage(filename):\n",
    "    imgfile = os.path.join('{}'.format(redpath), filename)\n",
    "    print('Reading {}'.format(imgfile))\n",
    "    img, hdr = fits.getdata(imgfile, header=True)\n",
    "    return img,hdr"
   ]
  },
  {
   "cell_type": "markdown",
   "metadata": {},
   "source": [
    "This removes NaN's from around the edges of the image that resulted from the combination process"
   ]
  },
  {
   "cell_type": "code",
   "execution_count": 18,
   "metadata": {},
   "outputs": [
    {
     "name": "stdout",
     "output_type": "stream",
     "text": [
      "Reading /media/miearsje/easystore/Documents/KU/Past Courses/Fall2021/ASTR596/mine/ObservingProject_student/Data/2021-10-19/Reduced/mark50g-stacked.fit\n",
      "Reading /media/miearsje/easystore/Documents/KU/Past Courses/Fall2021/ASTR596/mine/ObservingProject_student/Data/2021-10-19/Reduced/mark50r-stacked.fit\n"
     ]
    }
   ],
   "source": [
    "#fix NaN's in image\n",
    "#g-band\n",
    "img_mark50_g,hdr_g = readimage(goutimage_filename)\n",
    "img_mark50_g_cl = np.nan_to_num(img_mark50_g)\n",
    "goutimage_filename_cl = goutimage_filename.replace('stacked.fit','stacked-cl.fit',1)\n",
    "fits.writeto(redpath + goutimage_filename_cl, img_mark50_g_cl, header=hdr_g, overwrite=True)\n",
    "\n",
    "#r-band\n",
    "img_mark50_r,hdr_r = readimage(routimage_filename)\n",
    "img_mark50_r_cl = np.nan_to_num(img_mark50_r)\n",
    "routimage_filename_cl = routimage_filename.replace('stacked.fit','stacked-cl.fit',1)\n",
    "fits.writeto(redpath + routimage_filename_cl, img_mark50_r_cl, header=hdr_r, overwrite=True)\n"
   ]
  },
  {
   "cell_type": "markdown",
   "metadata": {},
   "source": [
    "## Now subtract the background\n",
    "\n",
    "This isn't really correct, as you will see a gradient in the combined image if you open them in ds9 (*you should do this*).  That gradient in the image was from flatfield problems that we aren't able to fix because the flatfield data we took had problems.  In practice, I should divide out the gradient before doing background subtraction but for the purposes of this exercise I'm going to treat the gradient in flux as a gradient in background. For now though this will at least produce better **looking** images, though likely not correct ones.\n",
    "\n",
    "The code below computes the background by smoothing the image with a 75x75 boxcar filter."
   ]
  },
  {
   "cell_type": "code",
   "execution_count": 19,
   "metadata": {},
   "outputs": [],
   "source": [
    "def get_sky_background(img, verbose=True):\n",
    "    from astropy.stats import SigmaClip\n",
    "    from photutils import Background2D, MedianBackground\n",
    "    sigma_clip = SigmaClip(sigma=3.)\n",
    "    bkg = Background2D(img, (75,75), filter_size=(5, 5), sigma_clip=sigma_clip, \n",
    "                       bkg_estimator=MedianBackground())\n",
    "    if verbose:\n",
    "        print('Sky background median = {:.3f}, rms = {:.3f} electrons.'.format(bkg.background_median, bkg.background_rms_median))\n",
    "    return bkg"
   ]
  },
  {
   "cell_type": "code",
   "execution_count": 20,
   "metadata": {},
   "outputs": [
    {
     "name": "stdout",
     "output_type": "stream",
     "text": [
      "Reading /media/miearsje/easystore/Documents/KU/Past Courses/Fall2021/ASTR596/mine/ObservingProject_student/Data/2021-10-19/Reduced/mark50g-stacked-cl.fit\n",
      "Sky background median = 5113.486, rms = 23.414 electrons.\n",
      "Reading /media/miearsje/easystore/Documents/KU/Past Courses/Fall2021/ASTR596/mine/ObservingProject_student/Data/2021-10-19/Reduced/mark50r-stacked-cl.fit\n",
      "Sky background median = 4893.877, rms = 23.884 electrons.\n"
     ]
    }
   ],
   "source": [
    "#this reads the image in and then determines the background\n",
    "#g-band\n",
    "img_mark50_g_cl,hdr_g = readimage(goutimage_filename_cl)\n",
    "bkg_g = get_sky_background(img_mark50_g_cl, verbose=True)\n",
    "\n",
    "#r-band\n",
    "img_mark50_r_cl,hdr_r = readimage(routimage_filename_cl)\n",
    "bkg_r = get_sky_background(img_mark50_r_cl, verbose=True)\n"
   ]
  },
  {
   "cell_type": "code",
   "execution_count": 21,
   "metadata": {},
   "outputs": [],
   "source": [
    "#this subtracts the background from each band\n",
    "img_mark50_g_cl_nosky = img_mark50_g_cl - bkg_g.background\n",
    "img_mark50_r_cl_nosky = img_mark50_r_cl - bkg_r.background\n"
   ]
  },
  {
   "cell_type": "code",
   "execution_count": 22,
   "metadata": {},
   "outputs": [
    {
     "name": "stdout",
     "output_type": "stream",
     "text": [
      "mark50g-stacked-bkg.fit\n",
      "mark50g-stacked-bkgsub.fit\n",
      "mark50r-stacked-bkg.fit\n",
      "mark50r-stacked-bkgsub.fit\n"
     ]
    }
   ],
   "source": [
    "#this writes out the background and background subtracted images to files with \n",
    "#the *bkg.fit and *bkgsub.fit extenstions.\n",
    "#g-band\n",
    "goutimage_filename_bkg = goutimage_filename_cl.replace('cl.fit','bkg.fit',1)\n",
    "fits.writeto(goutimage_filename_bkg, bkg_g.background, header=hdr_g, overwrite=True)  \n",
    "print(goutimage_filename_bkg)\n",
    "\n",
    "goutimage_filename_bkgsub = goutimage_filename_bkg.replace('bkg.fit','bkgsub.fit',1)\n",
    "print(goutimage_filename_bkgsub)\n",
    "fits.writeto(goutimage_filename_bkgsub, img_mark50_g_cl_nosky, header=hdr_g, overwrite=True)        \n",
    "\n",
    "#r-band\n",
    "routimage_filename_bkg = routimage_filename_cl.replace('cl.fit','bkg.fit',1)\n",
    "fits.writeto(routimage_filename_bkg, bkg_r.background, header=hdr_r, overwrite=True)  \n",
    "print(routimage_filename_bkg)\n",
    "\n",
    "routimage_filename_bkgsub = routimage_filename_bkg.replace('bkg.fit','bkgsub.fit',1)\n",
    "print(routimage_filename_bkgsub)\n",
    "fits.writeto(routimage_filename_bkgsub, img_mark50_r_cl_nosky, header=hdr_r, overwrite=True)        \n"
   ]
  },
  {
   "cell_type": "code",
   "execution_count": 24,
   "metadata": {},
   "outputs": [
    {
     "ename": "ValueError",
     "evalue": "Passing parameters norm and vmin/vmax simultaneously is not supported. Please pass vmin/vmax directly to the norm when creating it.",
     "output_type": "error",
     "traceback": [
      "\u001b[0;31m---------------------------------------------------------------------------\u001b[0m",
      "\u001b[0;31mValueError\u001b[0m                                Traceback (most recent call last)",
      "\u001b[0;32m<ipython-input-24-5ff4ebc33975>\u001b[0m in \u001b[0;36m<module>\u001b[0;34m\u001b[0m\n\u001b[1;32m      4\u001b[0m \u001b[0mplt\u001b[0m\u001b[0;34m.\u001b[0m\u001b[0msubplots_adjust\u001b[0m\u001b[0;34m(\u001b[0m\u001b[0mhspace\u001b[0m\u001b[0;34m=\u001b[0m\u001b[0;36m.2\u001b[0m\u001b[0;34m)\u001b[0m\u001b[0;34m\u001b[0m\u001b[0;34m\u001b[0m\u001b[0m\n\u001b[1;32m      5\u001b[0m \u001b[0mplt\u001b[0m\u001b[0;34m.\u001b[0m\u001b[0msubplot\u001b[0m\u001b[0;34m(\u001b[0m\u001b[0;36m2\u001b[0m\u001b[0;34m,\u001b[0m\u001b[0;36m2\u001b[0m\u001b[0;34m,\u001b[0m\u001b[0;36m1\u001b[0m\u001b[0;34m)\u001b[0m\u001b[0;34m\u001b[0m\u001b[0;34m\u001b[0m\u001b[0m\n\u001b[0;32m----> 6\u001b[0;31m \u001b[0mdisplay_image\u001b[0m\u001b[0;34m(\u001b[0m\u001b[0mgoutimage_filename_cl\u001b[0m\u001b[0;34m,\u001b[0m\u001b[0mp1\u001b[0m\u001b[0;34m=\u001b[0m\u001b[0;36m20\u001b[0m\u001b[0;34m,\u001b[0m\u001b[0mp2\u001b[0m\u001b[0;34m=\u001b[0m\u001b[0;36m90\u001b[0m\u001b[0;34m)\u001b[0m\u001b[0;34m\u001b[0m\u001b[0;34m\u001b[0m\u001b[0m\n\u001b[0m\u001b[1;32m      7\u001b[0m \u001b[0mplt\u001b[0m\u001b[0;34m.\u001b[0m\u001b[0mcolorbar\u001b[0m\u001b[0;34m(\u001b[0m\u001b[0mfraction\u001b[0m\u001b[0;34m=\u001b[0m\u001b[0;36m.08\u001b[0m\u001b[0;34m)\u001b[0m\u001b[0;34m\u001b[0m\u001b[0;34m\u001b[0m\u001b[0m\n\u001b[1;32m      8\u001b[0m \u001b[0mplt\u001b[0m\u001b[0;34m.\u001b[0m\u001b[0mtitle\u001b[0m\u001b[0;34m(\u001b[0m\u001b[0;34m'Stacked g-band Image'\u001b[0m\u001b[0;34m)\u001b[0m\u001b[0;34m\u001b[0m\u001b[0;34m\u001b[0m\u001b[0m\n",
      "\u001b[0;32m<ipython-input-5-d9df3f7cd479>\u001b[0m in \u001b[0;36mdisplay_image\u001b[0;34m(imagename, cmap, p1, p2, stretch)\u001b[0m\n\u001b[1;32m      6\u001b[0m   \u001b[0mnorm\u001b[0m \u001b[0;34m=\u001b[0m \u001b[0msimple_norm\u001b[0m\u001b[0;34m(\u001b[0m\u001b[0md\u001b[0m\u001b[0;34m,\u001b[0m\u001b[0mmin_percent\u001b[0m\u001b[0;34m=\u001b[0m\u001b[0mp1\u001b[0m\u001b[0;34m,\u001b[0m\u001b[0mmax_percent\u001b[0m\u001b[0;34m=\u001b[0m\u001b[0mp2\u001b[0m\u001b[0;34m)\u001b[0m\u001b[0;34m\u001b[0m\u001b[0;34m\u001b[0m\u001b[0m\n\u001b[1;32m      7\u001b[0m   \u001b[0;31m#plt.figure(figsize=(12,10))\u001b[0m\u001b[0;34m\u001b[0m\u001b[0;34m\u001b[0m\u001b[0m\n\u001b[0;32m----> 8\u001b[0;31m   \u001b[0mplt\u001b[0m\u001b[0;34m.\u001b[0m\u001b[0mimshow\u001b[0m\u001b[0;34m(\u001b[0m\u001b[0md\u001b[0m\u001b[0;34m,\u001b[0m\u001b[0mvmin\u001b[0m\u001b[0;34m=\u001b[0m\u001b[0ma\u001b[0m\u001b[0;34m,\u001b[0m\u001b[0mvmax\u001b[0m\u001b[0;34m=\u001b[0m\u001b[0mb\u001b[0m\u001b[0;34m,\u001b[0m\u001b[0mcmap\u001b[0m\u001b[0;34m=\u001b[0m\u001b[0mcmap\u001b[0m\u001b[0;34m,\u001b[0m\u001b[0mnorm\u001b[0m\u001b[0;34m=\u001b[0m\u001b[0mnorm\u001b[0m\u001b[0;34m)\u001b[0m\u001b[0;34m\u001b[0m\u001b[0;34m\u001b[0m\u001b[0m\n\u001b[0m",
      "\u001b[0;32m~/anaconda3/envs/ccd/lib/python3.9/site-packages/matplotlib/_api/deprecation.py\u001b[0m in \u001b[0;36mwrapper\u001b[0;34m(*args, **kwargs)\u001b[0m\n\u001b[1;32m    454\u001b[0m                 \u001b[0;34m\"parameter will become keyword-only %(removal)s.\"\u001b[0m\u001b[0;34m,\u001b[0m\u001b[0;34m\u001b[0m\u001b[0;34m\u001b[0m\u001b[0m\n\u001b[1;32m    455\u001b[0m                 name=name, obj_type=f\"parameter of {func.__name__}()\")\n\u001b[0;32m--> 456\u001b[0;31m         \u001b[0;32mreturn\u001b[0m \u001b[0mfunc\u001b[0m\u001b[0;34m(\u001b[0m\u001b[0;34m*\u001b[0m\u001b[0margs\u001b[0m\u001b[0;34m,\u001b[0m \u001b[0;34m**\u001b[0m\u001b[0mkwargs\u001b[0m\u001b[0;34m)\u001b[0m\u001b[0;34m\u001b[0m\u001b[0;34m\u001b[0m\u001b[0m\n\u001b[0m\u001b[1;32m    457\u001b[0m \u001b[0;34m\u001b[0m\u001b[0m\n\u001b[1;32m    458\u001b[0m     \u001b[0;31m# Don't modify *func*'s signature, as boilerplate.py needs it.\u001b[0m\u001b[0;34m\u001b[0m\u001b[0;34m\u001b[0m\u001b[0m\n",
      "\u001b[0;32m~/anaconda3/envs/ccd/lib/python3.9/site-packages/matplotlib/pyplot.py\u001b[0m in \u001b[0;36mimshow\u001b[0;34m(X, cmap, norm, aspect, interpolation, alpha, vmin, vmax, origin, extent, interpolation_stage, filternorm, filterrad, resample, url, data, **kwargs)\u001b[0m\n\u001b[1;32m   2638\u001b[0m         \u001b[0minterpolation_stage\u001b[0m\u001b[0;34m=\u001b[0m\u001b[0;32mNone\u001b[0m\u001b[0;34m,\u001b[0m \u001b[0mfilternorm\u001b[0m\u001b[0;34m=\u001b[0m\u001b[0;32mTrue\u001b[0m\u001b[0;34m,\u001b[0m \u001b[0mfilterrad\u001b[0m\u001b[0;34m=\u001b[0m\u001b[0;36m4.0\u001b[0m\u001b[0;34m,\u001b[0m\u001b[0;34m\u001b[0m\u001b[0;34m\u001b[0m\u001b[0m\n\u001b[1;32m   2639\u001b[0m         resample=None, url=None, data=None, **kwargs):\n\u001b[0;32m-> 2640\u001b[0;31m     __ret = gca().imshow(\n\u001b[0m\u001b[1;32m   2641\u001b[0m         \u001b[0mX\u001b[0m\u001b[0;34m,\u001b[0m \u001b[0mcmap\u001b[0m\u001b[0;34m=\u001b[0m\u001b[0mcmap\u001b[0m\u001b[0;34m,\u001b[0m \u001b[0mnorm\u001b[0m\u001b[0;34m=\u001b[0m\u001b[0mnorm\u001b[0m\u001b[0;34m,\u001b[0m \u001b[0maspect\u001b[0m\u001b[0;34m=\u001b[0m\u001b[0maspect\u001b[0m\u001b[0;34m,\u001b[0m\u001b[0;34m\u001b[0m\u001b[0;34m\u001b[0m\u001b[0m\n\u001b[1;32m   2642\u001b[0m         \u001b[0minterpolation\u001b[0m\u001b[0;34m=\u001b[0m\u001b[0minterpolation\u001b[0m\u001b[0;34m,\u001b[0m \u001b[0malpha\u001b[0m\u001b[0;34m=\u001b[0m\u001b[0malpha\u001b[0m\u001b[0;34m,\u001b[0m \u001b[0mvmin\u001b[0m\u001b[0;34m=\u001b[0m\u001b[0mvmin\u001b[0m\u001b[0;34m,\u001b[0m\u001b[0;34m\u001b[0m\u001b[0;34m\u001b[0m\u001b[0m\n",
      "\u001b[0;32m~/anaconda3/envs/ccd/lib/python3.9/site-packages/matplotlib/_api/deprecation.py\u001b[0m in \u001b[0;36mwrapper\u001b[0;34m(*args, **kwargs)\u001b[0m\n\u001b[1;32m    454\u001b[0m                 \u001b[0;34m\"parameter will become keyword-only %(removal)s.\"\u001b[0m\u001b[0;34m,\u001b[0m\u001b[0;34m\u001b[0m\u001b[0;34m\u001b[0m\u001b[0m\n\u001b[1;32m    455\u001b[0m                 name=name, obj_type=f\"parameter of {func.__name__}()\")\n\u001b[0;32m--> 456\u001b[0;31m         \u001b[0;32mreturn\u001b[0m \u001b[0mfunc\u001b[0m\u001b[0;34m(\u001b[0m\u001b[0;34m*\u001b[0m\u001b[0margs\u001b[0m\u001b[0;34m,\u001b[0m \u001b[0;34m**\u001b[0m\u001b[0mkwargs\u001b[0m\u001b[0;34m)\u001b[0m\u001b[0;34m\u001b[0m\u001b[0;34m\u001b[0m\u001b[0m\n\u001b[0m\u001b[1;32m    457\u001b[0m \u001b[0;34m\u001b[0m\u001b[0m\n\u001b[1;32m    458\u001b[0m     \u001b[0;31m# Don't modify *func*'s signature, as boilerplate.py needs it.\u001b[0m\u001b[0;34m\u001b[0m\u001b[0;34m\u001b[0m\u001b[0m\n",
      "\u001b[0;32m~/anaconda3/envs/ccd/lib/python3.9/site-packages/matplotlib/__init__.py\u001b[0m in \u001b[0;36minner\u001b[0;34m(ax, data, *args, **kwargs)\u001b[0m\n\u001b[1;32m   1410\u001b[0m     \u001b[0;32mdef\u001b[0m \u001b[0minner\u001b[0m\u001b[0;34m(\u001b[0m\u001b[0max\u001b[0m\u001b[0;34m,\u001b[0m \u001b[0;34m*\u001b[0m\u001b[0margs\u001b[0m\u001b[0;34m,\u001b[0m \u001b[0mdata\u001b[0m\u001b[0;34m=\u001b[0m\u001b[0;32mNone\u001b[0m\u001b[0;34m,\u001b[0m \u001b[0;34m**\u001b[0m\u001b[0mkwargs\u001b[0m\u001b[0;34m)\u001b[0m\u001b[0;34m:\u001b[0m\u001b[0;34m\u001b[0m\u001b[0;34m\u001b[0m\u001b[0m\n\u001b[1;32m   1411\u001b[0m         \u001b[0;32mif\u001b[0m \u001b[0mdata\u001b[0m \u001b[0;32mis\u001b[0m \u001b[0;32mNone\u001b[0m\u001b[0;34m:\u001b[0m\u001b[0;34m\u001b[0m\u001b[0;34m\u001b[0m\u001b[0m\n\u001b[0;32m-> 1412\u001b[0;31m             \u001b[0;32mreturn\u001b[0m \u001b[0mfunc\u001b[0m\u001b[0;34m(\u001b[0m\u001b[0max\u001b[0m\u001b[0;34m,\u001b[0m \u001b[0;34m*\u001b[0m\u001b[0mmap\u001b[0m\u001b[0;34m(\u001b[0m\u001b[0msanitize_sequence\u001b[0m\u001b[0;34m,\u001b[0m \u001b[0margs\u001b[0m\u001b[0;34m)\u001b[0m\u001b[0;34m,\u001b[0m \u001b[0;34m**\u001b[0m\u001b[0mkwargs\u001b[0m\u001b[0;34m)\u001b[0m\u001b[0;34m\u001b[0m\u001b[0;34m\u001b[0m\u001b[0m\n\u001b[0m\u001b[1;32m   1413\u001b[0m \u001b[0;34m\u001b[0m\u001b[0m\n\u001b[1;32m   1414\u001b[0m         \u001b[0mbound\u001b[0m \u001b[0;34m=\u001b[0m \u001b[0mnew_sig\u001b[0m\u001b[0;34m.\u001b[0m\u001b[0mbind\u001b[0m\u001b[0;34m(\u001b[0m\u001b[0max\u001b[0m\u001b[0;34m,\u001b[0m \u001b[0;34m*\u001b[0m\u001b[0margs\u001b[0m\u001b[0;34m,\u001b[0m \u001b[0;34m**\u001b[0m\u001b[0mkwargs\u001b[0m\u001b[0;34m)\u001b[0m\u001b[0;34m\u001b[0m\u001b[0;34m\u001b[0m\u001b[0m\n",
      "\u001b[0;32m~/anaconda3/envs/ccd/lib/python3.9/site-packages/matplotlib/axes/_axes.py\u001b[0m in \u001b[0;36mimshow\u001b[0;34m(self, X, cmap, norm, aspect, interpolation, alpha, vmin, vmax, origin, extent, interpolation_stage, filternorm, filterrad, resample, url, **kwargs)\u001b[0m\n\u001b[1;32m   5445\u001b[0m             \u001b[0;31m# image does not already have clipping set, clip to axes patch\u001b[0m\u001b[0;34m\u001b[0m\u001b[0;34m\u001b[0m\u001b[0m\n\u001b[1;32m   5446\u001b[0m             \u001b[0mim\u001b[0m\u001b[0;34m.\u001b[0m\u001b[0mset_clip_path\u001b[0m\u001b[0;34m(\u001b[0m\u001b[0mself\u001b[0m\u001b[0;34m.\u001b[0m\u001b[0mpatch\u001b[0m\u001b[0;34m)\u001b[0m\u001b[0;34m\u001b[0m\u001b[0;34m\u001b[0m\u001b[0m\n\u001b[0;32m-> 5447\u001b[0;31m         \u001b[0mim\u001b[0m\u001b[0;34m.\u001b[0m\u001b[0m_scale_norm\u001b[0m\u001b[0;34m(\u001b[0m\u001b[0mnorm\u001b[0m\u001b[0;34m,\u001b[0m \u001b[0mvmin\u001b[0m\u001b[0;34m,\u001b[0m \u001b[0mvmax\u001b[0m\u001b[0;34m)\u001b[0m\u001b[0;34m\u001b[0m\u001b[0;34m\u001b[0m\u001b[0m\n\u001b[0m\u001b[1;32m   5448\u001b[0m         \u001b[0mim\u001b[0m\u001b[0;34m.\u001b[0m\u001b[0mset_url\u001b[0m\u001b[0;34m(\u001b[0m\u001b[0murl\u001b[0m\u001b[0;34m)\u001b[0m\u001b[0;34m\u001b[0m\u001b[0;34m\u001b[0m\u001b[0m\n\u001b[1;32m   5449\u001b[0m \u001b[0;34m\u001b[0m\u001b[0m\n",
      "\u001b[0;32m~/anaconda3/envs/ccd/lib/python3.9/site-packages/matplotlib/cm.py\u001b[0m in \u001b[0;36m_scale_norm\u001b[0;34m(self, norm, vmin, vmax)\u001b[0m\n\u001b[1;32m    378\u001b[0m             \u001b[0mself\u001b[0m\u001b[0;34m.\u001b[0m\u001b[0mset_clim\u001b[0m\u001b[0;34m(\u001b[0m\u001b[0mvmin\u001b[0m\u001b[0;34m,\u001b[0m \u001b[0mvmax\u001b[0m\u001b[0;34m)\u001b[0m\u001b[0;34m\u001b[0m\u001b[0;34m\u001b[0m\u001b[0m\n\u001b[1;32m    379\u001b[0m             \u001b[0;32mif\u001b[0m \u001b[0mnorm\u001b[0m \u001b[0;32mis\u001b[0m \u001b[0;32mnot\u001b[0m \u001b[0;32mNone\u001b[0m\u001b[0;34m:\u001b[0m\u001b[0;34m\u001b[0m\u001b[0;34m\u001b[0m\u001b[0m\n\u001b[0;32m--> 380\u001b[0;31m                 raise ValueError(\n\u001b[0m\u001b[1;32m    381\u001b[0m                     \u001b[0;34m\"Passing parameters norm and vmin/vmax simultaneously is \"\u001b[0m\u001b[0;34m\u001b[0m\u001b[0;34m\u001b[0m\u001b[0m\n\u001b[1;32m    382\u001b[0m                     \u001b[0;34m\"not supported. Please pass vmin/vmax directly to the \"\u001b[0m\u001b[0;34m\u001b[0m\u001b[0;34m\u001b[0m\u001b[0m\n",
      "\u001b[0;31mValueError\u001b[0m: Passing parameters norm and vmin/vmax simultaneously is not supported. Please pass vmin/vmax directly to the norm when creating it."
     ]
    },
    {
     "data": {
      "image/png": "[encoded data removed]",
      "text/plain": [
       "<Figure size 864x864 with 1 Axes>"
      ]
     },
     "metadata": {
      "needs_background": "light"
     },
     "output_type": "display_data"
    }
   ],
   "source": [
    "#displays the different g-band images\n",
    "#%%time\n",
    "plt.figure(figsize=(12,12))\n",
    "plt.subplots_adjust(hspace=.2)\n",
    "plt.subplot(2,2,1)\n",
    "display_image(goutimage_filename_cl,p1=20,p2=90)\n",
    "plt.colorbar(fraction=.08)\n",
    "plt.title('Stacked g-band Image')\n",
    "plt.subplot(2,2,2)\n",
    "display_image(goutimage_filename_bkg,p1=20,p2=90)\n",
    "plt.colorbar(fraction=.08)\n",
    "plt.title('g-band background')\n",
    "plt.subplot(2,2,3)\n",
    "display_image(goutimage_filename_bkgsub,p1=25,p2=95)\n",
    "plt.colorbar(fraction=.08)\n",
    "plt.title('g-band background subtracted')\n"
   ]
  },
  {
   "cell_type": "code",
   "execution_count": null,
   "metadata": {},
   "outputs": [],
   "source": [
    "#%%time\n",
    "plt.figure(figsize=(12,12))\n",
    "plt.subplots_adjust(hspace=.2)\n",
    "plt.subplot(2,2,1)\n",
    "display_image(routimage_filename_cl,p1=20,p2=90)\n",
    "plt.colorbar(fraction=.08)\n",
    "plt.title('Stacked r-band Image')\n",
    "plt.subplot(2,2,2)\n",
    "display_image(routimage_filename_bkg,p1=20,p2=90)\n",
    "plt.colorbar(fraction=.08)\n",
    "plt.title('r-band background')\n",
    "plt.subplot(2,2,3)\n",
    "display_image(routimage_filename_bkgsub,p1=25,p2=95)\n",
    "plt.colorbar(fraction=.08)\n",
    "plt.title('r-band background subtracted')\n",
    "\n",
    "#display_image(goutimage_filename_cl, p1=20,p2=90)"
   ]
  },
  {
   "cell_type": "markdown",
   "metadata": {},
   "source": [
    "## Problem 3: Describe your final background subtracted images\n",
    "\n",
    "Open your two stacked and two background subtracted images in DS9.  In the cell below, comment on the features of the combined images with respect to the individual images and on the background subtracted images with respect to the original combined images.  Touch on some of the following points:  \n",
    "* How do the absolute number of counts compare between the three sets of images in each band?\n",
    "\n",
    "* How does the noise compare between them?  \n",
    "\n",
    "* Can you see more, the same, or less stars in the combined image than in the individual images?  How about when you compare the combined to the background subtracted images?  If you see different amounts of stars, comment on which stars you can see (or not) in the combined image.\n",
    "\n",
    "* How are the cosmicrays different between the individual and combined images?\n",
    "\n",
    "* Comment on any other differences."
   ]
  },
  {
   "cell_type": "markdown",
   "metadata": {},
   "source": [
    "**answer here**"
   ]
  },
  {
   "cell_type": "markdown",
   "metadata": {},
   "source": []
  }
 ],
 "metadata": {
  "kernelspec": {
   "display_name": "Python 3",
   "language": "python",
   "name": "python3"
  },
  "language_info": {
   "codemirror_mode": {
    "name": "ipython",
    "version": 3
   },
   "file_extension": ".py",
   "mimetype": "text/x-python",
   "name": "python",
   "nbconvert_exporter": "python",
   "pygments_lexer": "ipython3",
   "version": "3.9.7"
  }
 },
 "nbformat": 4,
 "nbformat_minor": 2
}
